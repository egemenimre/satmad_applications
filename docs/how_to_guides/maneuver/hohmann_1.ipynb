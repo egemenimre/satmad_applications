{
 "cells": [
  {
   "cell_type": "markdown",
   "metadata": {
    "collapsed": true,
    "pycharm": {
     "name": "#%% md\n"
    }
   },
   "source": [
    "# Changing Orbits: Hohmann Transfer\n",
    "\n",
    "Satellites often manoeuvre to different orbits for various reasons and, while simple, most coplanar manoeuvres can still be modelled with [Hohmann Transfer](https://en.wikipedia.org/wiki/Hohmann_transfer_orbit), where the satellite changes semimajor axis and eccentricity, for example correcting post-launch injection errors, executing a Collision Avoidance Manoeuvre or moving to the mission orbit.\n",
    "\n",
    "For this example, imagine a satellite on an elliptical orbit after the injection. The aim will be to increase the altitude and circularise the orbit. As the orbits are not much different from rails that trains move on, if two orbits do not intersect, it is mandatory to use an intermediate orbit that connects the initial orbit, and the target orbit. This intermediate or *transfer* orbit will start from the periapsis of the initial orbit and will have its apoapsis on the target orbit. There will be instantaneous velocity changes (or thruster firings) at these intersection points to jump from one orbit to the other one.\n",
    "\n",
    "It is possible to compute the result analytically, without using the tools offered by SatMAD, but we will demonstrate how we can put together a propagator, add an instantaneous velocity change and use the result as the initial condition for the new propagation.\n",
    "\n",
    "For our example, we will start with an elliptic orbit at a semimajor axis of 7056 km, and we will end up at a circular orbit at a semimajor axis of 7500 km.\n",
    "We start by defining the initial orbit:"
   ]
  },
  {
   "cell_type": "code",
   "execution_count": 6,
   "outputs": [],
   "source": [
    "import numpy as np\n",
    "from astropy.time import Time\n",
    "from astropy import units as u\n",
    "\n",
    "from satmad.coordinates.frames import init_pvt\n",
    "from satmad.core.celestial_bodies_lib import EARTH\n",
    "from satmad.propagation.classical_orb_elems import OsculatingKeplerianOrbElems\n",
    "from satmad.propagation.numerical_propagators import NumericalPropagator\n",
    "from satmad.utils.discrete_time_events import DiscreteTimeEvents\n",
    "from satmad.utils.timeinterval import TimeInterval\n",
    "\n",
    "time = Time(\"2020-01-11T11:00:00.000\", scale=\"utc\")\n",
    "central_body = EARTH\n",
    "\n",
    "sm_axis = 7056.0 * u.km\n",
    "ecc = 0.02 * u.dimensionless_unscaled\n",
    "incl = 0 * u.deg\n",
    "raan = 0 * u.deg\n",
    "arg_perigee = 90 * u.deg\n",
    "true_an = 20 * u.deg\n",
    "\n",
    "init_orb_elems = OsculatingKeplerianOrbElems(\n",
    "    time, sm_axis, ecc, incl, raan, arg_perigee, true_an, central_body\n",
    ")"
   ],
   "metadata": {
    "collapsed": false,
    "pycharm": {
     "name": "#%%\n"
    }
   }
  },
  {
   "cell_type": "markdown",
   "source": [
    "The first step is to find the time of first periapsis where the firing will be executed. For this, we will propagate the orbit for one period and look for the minimum radius value (which is the apoapsis point)."
   ],
   "metadata": {
    "collapsed": false
   }
  },
  {
   "cell_type": "code",
   "execution_count": 7,
   "outputs": [
    {
     "name": "stdout",
     "output_type": "stream",
     "text": [
      "          time          type       value       \n",
      "                                     km        \n",
      "----------------------- ---- ------------------\n",
      "2020-01-11T11:43:54.264  max  7197.120000000502\n",
      "2020-01-11T12:33:03.563  min 6914.8800000043475\n",
      "\n",
      "Check with initial conditions:\n",
      "Apoapsis r : 7197.12 km\n",
      "Periapsis r: 6914.88 km\n"
     ]
    }
   ],
   "source": [
    "# generate cartesian initial conditions\n",
    "pvt0 = init_orb_elems.to_cartesian()\n",
    "\n",
    "# Set up propagation config\n",
    "stepsize = 10 * u.s\n",
    "\n",
    "prop_start = pvt0.obstime\n",
    "prop_duration = init_orb_elems.period\n",
    "\n",
    "# init propagator with defaults - run propagation and get trajectory\n",
    "trajectory = NumericalPropagator(stepsize).gen_trajectory(pvt0, TimeInterval(prop_start, prop_duration))\n",
    "\n",
    "# Extract search range\n",
    "time_list = trajectory.coord_list.obstime\n",
    "r_list = trajectory.coord_list.cartesian.without_differentials().norm()\n",
    "\n",
    "# Find time events\n",
    "events = DiscreteTimeEvents(time_list, r_list)\n",
    "\n",
    "# Min / Max Event times\n",
    "print(events.max_min_table)\n",
    "\n",
    "# Cross-check with orbital elems\n",
    "print(\"\\nCheck with initial conditions:\")\n",
    "print(f\"Apoapsis r : {init_orb_elems.apoapsis}\")\n",
    "print(f\"Periapsis r: {init_orb_elems.periapsis}\")"
   ],
   "metadata": {
    "collapsed": false,
    "pycharm": {
     "name": "#%%\n"
    }
   }
  },
  {
   "cell_type": "markdown",
   "source": [
    "As can be seen, we have found the times corresponding to minimum and maximum radii, and the values match the periapsis and apoapsis of the initial orbit.\n",
    "\n",
    "We can generate the transfer orbit analytically, using the properties of the initial and target orbits:"
   ],
   "metadata": {
    "collapsed": false
   }
  },
  {
   "cell_type": "code",
   "execution_count": 8,
   "outputs": [
    {
     "name": "stdout",
     "output_type": "stream",
     "text": [
      "Transfer orbit properties:\n",
      "Transfer sma : 7207.4400000000005 km\n",
      "Transfer ecc : 0.040591388898138576\n"
     ]
    }
   ],
   "source": [
    "# semimajor axis and eccentricity of the transfer orbit\n",
    "a_tgt = 7500 * u.km\n",
    "a_transfer = 0.5*(init_orb_elems.periapsis + a_tgt)\n",
    "ecc_transfer = (a_tgt - init_orb_elems.periapsis) /(2*a_transfer)\n",
    "\n",
    "print(\"Transfer orbit properties:\")\n",
    "print(f\"Transfer sma : {a_transfer}\")\n",
    "print(f\"Transfer ecc : {ecc_transfer}\")"
   ],
   "metadata": {
    "collapsed": false,
    "pycharm": {
     "name": "#%%\n"
    }
   }
  },
  {
   "cell_type": "markdown",
   "source": [
    "The problem is to calculate how much velocity change is required to jump from the initial orbit periapsis to the transfer orbit ($\\Delta V_1$), and then how much velocity change is required to jump from the transfer orbit apoapsis to the target orbit  ($\\Delta V_2$).\n",
    "\n",
    "We will use the classical analytical method and go through the energy computed at the intersection points. The energy equation in terms of cartesian coordinates and semimajor axis is given as:\n",
    "\n",
    "$\\varepsilon = \\dfrac{v^2}{2} - \\dfrac{\\mu}{r} = - \\dfrac{\\mu}{2 a}$\n",
    "\n",
    "We can evaluate the equation at the intersection point of initial orbit and transfer orbit and solve for the velocity - this is essentially the velocity after the first thruster firing ($v_{init@peri} + \\Delta V_1$). Note that the applied $\\Delta V$ is along the initial velocity vector.\n",
    "\n",
    "$\\varepsilon_{tr} = \\dfrac{v_{tr@peri}^2}{2} - \\dfrac{\\mu}{r_{init@peri}} = - \\dfrac{\\mu}{2 a_{tr}}$\n",
    "\n",
    "$v_{tr@peri}^2 = \\dfrac{2\\mu}{r_{init@peri}} - \\dfrac{\\mu}{a_{tr}}$\n",
    "\n",
    "$v_{tr@peri} = |\\vec{v}_{init@peri}| + \\Delta v_1$\n"
   ],
   "metadata": {
    "collapsed": false,
    "pycharm": {
     "name": "#%% md\n"
    }
   }
  },
  {
   "cell_type": "code",
   "execution_count": 9,
   "outputs": [
    {
     "name": "stdout",
     "output_type": "stream",
     "text": [
      "Compare velocities at init orbit periapsis and transfer orbit periapsis\n",
      "Velocity init orbit @ periapsis     : 7.667903697041672 km / s\n",
      "Velocity transfer orbit @ periapsis : 7.744915393079457 km / s\n",
      "Required delta V                    : 77.01169603778446 m / s\n"
     ]
    }
   ],
   "source": [
    "# velocity of the transfer orbit at periapsis\n",
    "v_tr_peri_comp = np.sqrt(EARTH.mu * (2/init_orb_elems.periapsis - 1/a_transfer))\n",
    "\n",
    "# velocity of the init orbit at periapsis\n",
    "t_init_peri = events.max_min_table[1][\"time\"]\n",
    "rv_init_peri = trajectory(t_init_peri)\n",
    "\n",
    "# required delta_v_1\n",
    "delta_v_1_comp = v_tr_peri_comp - rv_init_peri.velocity.norm()\n",
    "print(\"Compare velocities at init orbit periapsis and transfer orbit periapsis\")\n",
    "print(f\"Velocity init orbit @ periapsis     : {rv_init_peri.velocity.norm()}\")\n",
    "print(f\"Velocity transfer orbit @ periapsis : {v_tr_peri_comp}\")\n",
    "print(f\"Required delta V                    : {delta_v_1_comp.to(u.m/u.s)}\")"
   ],
   "metadata": {
    "collapsed": false,
    "pycharm": {
     "name": "#%%\n"
    }
   }
  },
  {
   "cell_type": "markdown",
   "source": [
    "This shows that a $\\Delta V$ of 77 m/s is required to make the jump from the initial orbit to the transfer orbit. As a cross-check, we will apply this $\\Delta V$ to the initial orbit at periapsis and see whether we can actually get the transfer orbit properties."
   ],
   "metadata": {
    "collapsed": false
   }
  },
  {
   "cell_type": "code",
   "execution_count": 10,
   "outputs": [
    {
     "name": "stdout",
     "output_type": "stream",
     "text": [
      "Computed Transfer orbit properties:\n",
      "Transfer sma : 7207.439999999193 km\n",
      "Transfer ecc : 0.040591388898082684\n"
     ]
    }
   ],
   "source": [
    "# Unit velocity and delta V vectors\n",
    "v_unit_1 = rv_init_peri.velocity / rv_init_peri.velocity.norm()\n",
    "delta_v_1 = delta_v_1_comp * v_unit_1\n",
    "\n",
    "# Generate the coordinates of the transfer orbit\n",
    "v_tr_peri = rv_init_peri.velocity + delta_v_1\n",
    "r_tr_peri = rv_init_peri.cartesian.without_differentials()\n",
    "\n",
    "rv_tr_peri = init_pvt(\"gcrs\", rv_init_peri.obstime, r_tr_peri, v_tr_peri)\n",
    "\n",
    "# Compute orbital elements of the transfer orbit\n",
    "tr_orb_elems = OsculatingKeplerianOrbElems.from_cartesian(rv_tr_peri)\n",
    "\n",
    "print(\"Computed Transfer orbit properties:\")\n",
    "print(f\"Transfer sma : {tr_orb_elems.sm_axis}\")\n",
    "print(f\"Transfer ecc : {tr_orb_elems.eccentricity}\")"
   ],
   "metadata": {
    "collapsed": false,
    "pycharm": {
     "name": "#%%\n"
    }
   }
  },
  {
   "cell_type": "markdown",
   "source": [
    "This confirms that the additional $\\Delta V$ really changes the initial orbit to the transfer orbit.\n",
    "\n",
    "Before we go on to compute $\\Delta V_2$, we have to obtain the velocity at the apoapsis of the transfer orbit. This is where we are touching the target orbit but, because of the lack of kinetic energy, we cannot jump to the target orbit.  We can either compute the velocity analytically from the energy at the transfer orbit evaluated at the apoapsis, or, as above, we can run a propagation, compute the apoapsis location and evaluate the velocity there. We have already seen that the results are the same.\n",
    "\n",
    "For simplicity, we will use the analytical method.\n",
    "\n",
    "$\\varepsilon_{tr} = \\dfrac{v_{tr@apo}^2}{2} - \\dfrac{\\mu}{r_{tr@apo}} = - \\dfrac{\\mu}{2 a_{tr}}$\n",
    "\n",
    "$\\dfrac{v_{tr@apo}^2}{2} = \\dfrac{\\mu}{r_{tr@apo}} - \\dfrac{\\mu}{2 a_{tr}}$\n",
    "\n",
    "$v_{tr@apo}^2 = \\dfrac{2\\mu}{r_{tr@apo}} - \\dfrac{\\mu}{a_{tr}}$"
   ],
   "metadata": {
    "collapsed": false
   }
  },
  {
   "cell_type": "code",
   "execution_count": 11,
   "outputs": [],
   "source": [
    "# velocity of the transfer orbit at periapsis\n",
    "v_tr_apo_comp = np.sqrt(EARTH.mu * (2/tr_orb_elems.apoapsis - 1/a_transfer))"
   ],
   "metadata": {
    "collapsed": false,
    "pycharm": {
     "name": "#%%\n"
    }
   }
  },
  {
   "cell_type": "markdown",
   "source": [
    "Now that we are on the transfer orbit, we can calculate the $\\Delta V_2$, corresponding to the second manoeuvre, to jump from the transfer orbit apoapsis to the target orbit. We will use the same technique as above, computing the energy at the transfer orbit and getting the required additional $\\Delta V$. Note that, at this stage $r_{tr@apo}$ is equal to $a_{tgt}$.\n",
    "\n",
    "$\\varepsilon_{tgt} = \\dfrac{v_{tgt}^2}{2} - \\dfrac{\\mu}{r_{tr@apo}} = - \\dfrac{\\mu}{2 a_{tgt}}$\n",
    "\n",
    "$\\dfrac{v_{tgt}^2}{2} = \\dfrac{\\mu}{r_{tr@apo}} - \\dfrac{\\mu}{2 a_{tgt}} = \\dfrac{\\mu}{a_{tgt}} - \\dfrac{\\mu}{2 a_{tgt}}$\n",
    "\n",
    "$v_{tgt}^2 = \\dfrac{\\mu}{a_{tgt}}$\n",
    "\n",
    "$ v_{tgt} = v_{tr@apo} + \\Delta V_2$\n",
    "\n",
    "Finally, the total $\\Delta V$ is the sum of $\\Delta V_1$ and $\\Delta V_2$ values."
   ],
   "metadata": {
    "collapsed": false
   }
  },
  {
   "cell_type": "code",
   "execution_count": 24,
   "outputs": [
    {
     "name": "stdout",
     "output_type": "stream",
     "text": [
      "Compare velocities at  transfer orbit apoapsis and target orbit\n",
      "Velocity transfer orbit @ apoapsis : 7.140688073774203 km / s\n",
      "Velocity target orbit              : 7.290180078251383 km / s\n",
      "Required delta V                   : 149.49200447717993 m / s\n",
      "\n",
      "--------------------------------------------------------------\n",
      "Required total delta V             : 226.50370051496438 m / s\n"
     ]
    }
   ],
   "source": [
    "# velocity of the target orbit\n",
    "v_tgt = np.sqrt(EARTH.mu / a_tgt)\n",
    "\n",
    "# required delta_v_2\n",
    "delta_v_2_comp = v_tgt - v_tr_apo_comp\n",
    "\n",
    "print(\"Compare velocities at  transfer orbit apoapsis and target orbit\")\n",
    "print(f\"Velocity transfer orbit @ apoapsis : {v_tr_apo_comp}\")\n",
    "print(f\"Velocity target orbit              : {v_tgt}\")\n",
    "print(f\"Required delta V                   : {delta_v_2_comp.to(u.m/u.s)}\")\n",
    "print(\"\\n--------------------------------------------------------------\")\n",
    "print(f\"Required total delta V             : {(delta_v_1_comp +delta_v_2_comp).to(u.m/u.s)}\")\n",
    "\n"
   ],
   "metadata": {
    "collapsed": false,
    "pycharm": {
     "name": "#%%\n"
    }
   }
  }
 ],
 "metadata": {
  "kernelspec": {
   "display_name": "Python 3",
   "language": "python",
   "name": "python3"
  },
  "language_info": {
   "codemirror_mode": {
    "name": "ipython",
    "version": 2
   },
   "file_extension": ".py",
   "mimetype": "text/x-python",
   "name": "python",
   "nbconvert_exporter": "python",
   "pygments_lexer": "ipython2",
   "version": "2.7.6"
  }
 },
 "nbformat": 4,
 "nbformat_minor": 0
}